{
 "cells": [
  {
   "cell_type": "code",
   "execution_count": 1,
   "metadata": {},
   "outputs": [],
   "source": [
    "# Import the necessary libraries and modules\n",
    "\n",
    "# Load and manipulate data\n",
    "import os\n",
    "import numpy as np\n",
    "import pandas as pd\n",
    "import matplotlib.pyplot as plt\n",
    "from collections import defaultdict\n",
    "\n",
    "# Deep learning framework\n",
    "import torch\n",
    "import torch.nn as nn\n",
    "import torchvision.transforms as transforms\n",
    "from torch.utils.data import Dataset, DataLoader, random_split\n",
    "\n",
    "# Image processing\n",
    "from PIL import Image\n",
    "\n",
    "# Progress bar\n",
    "from tqdm.auto import tqdm\n",
    "\n",
    "# Model visualization\n",
    "from torchinfo import summary\n"
   ]
  },
  {
   "cell_type": "code",
   "execution_count": 2,
   "metadata": {},
   "outputs": [],
   "source": [
    "# Set the device for computation\n",
    "device = torch.device('cuda' if torch.cuda.is_available() else 'cpu')"
   ]
  },
  {
   "cell_type": "code",
   "execution_count": 3,
   "metadata": {},
   "outputs": [],
   "source": [
    "# Define the MelCepstrum dataset class\n",
    "class MelCepstrum(Dataset):\n",
    "    def __init__(self,  file, transform=None):\n",
    "        self.datas = pd.read_csv(file) # Read the CSV file\n",
    "        self.transform = transform # Transformations to be applied to each sample\n",
    "\n",
    "    def __len__(self):\n",
    "        return len(self.datas)\n",
    "\n",
    "    def __getitem__(self, index):\n",
    "        path = 'music_train/' + self.datas.iloc[index, 0] # Get the file path of the image\n",
    "        image = Image.open(path).convert('RGB')  # Open the image and convert it to RGB format\n",
    "        label = torch.tensor(int(self.datas.iloc[index, 1])) # Get the label of the image and convert it to a tensor\n",
    "\n",
    "        if self.transform:\n",
    "            image = self.transform(image) # Apply the specified transformation to the image\n",
    "\n",
    "        return image, label\n"
   ]
  },
  {
   "cell_type": "code",
   "execution_count": 4,
   "metadata": {},
   "outputs": [],
   "source": [
    "BATCH_SIZE = 32\n",
    "EPOCHS = 15\n",
    "LEARNING_RATE = 0.0002\n",
    "NUM_CLASSES = 88\n"
   ]
  },
  {
   "cell_type": "code",
   "execution_count": 5,
   "metadata": {},
   "outputs": [],
   "source": [
    "# Define the transformation for preprocessing the images\n",
    "transform = transforms.Compose([\n",
    "    transforms.Resize((224, 224)), # Resize the image to the specified size (224x224)\n",
    "    transforms.ToTensor(), # Resize the image to the specified size (224x224)\n",
    "    transforms.Normalize(mean=[0.485, 0.456, 0.406], std=[0.229, 0.224, 0.225])]) # Normalize the image tensor by subtracting mean values and dividing by standard deviation values\n"
   ]
  },
  {
   "cell_type": "code",
   "execution_count": 6,
   "metadata": {},
   "outputs": [],
   "source": [
    "dataset = MelCepstrum(file='train_truth.csv', transform=transform)\n",
    "\n",
    "# Split the dataset into training and validation sets\n",
    "train_size = int(0.7 * len(dataset))\n",
    "val_size = len(dataset) - train_size\n",
    "# Determine the sizes of the training and validation sets (0.7 for training, 0.3 for validation)\n",
    "train_dataset, val_dataset = random_split(dataset, [train_size, val_size]) # Use the random_split to split the dataset into training and validation sets\n"
   ]
  },
  {
   "cell_type": "code",
   "execution_count": 7,
   "metadata": {},
   "outputs": [],
   "source": [
    "# Create data loaders for training and validation sets\n",
    "train_loader = DataLoader(train_dataset, batch_size=BATCH_SIZE, shuffle=True)\n",
    "val_loader = DataLoader(val_dataset, batch_size=BATCH_SIZE, shuffle=True)\n"
   ]
  },
  {
   "cell_type": "code",
   "execution_count": 8,
   "metadata": {},
   "outputs": [],
   "source": [
    "# Define the CNN_Model\n",
    "class CNN_Model(nn.Module):\n",
    "    def __init__(self):\n",
    "        super().__init__()\n",
    "        # Define the convolutional layers\n",
    "        self.model = nn.Sequential(nn.Conv2d(3, 64, kernel_size=3, stride=1, padding=1),\n",
    "                                   nn.ReLU(),\n",
    "                                   nn.Conv2d(64, 128, kernel_size=3, stride=1, padding=1),\n",
    "                                   nn.ReLU(),\n",
    "                                   nn.MaxPool2d(kernel_size=2, stride=2),\n",
    "                                   nn.Conv2d(128, 256, kernel_size=3, stride=1, padding=1),\n",
    "                                   nn.ReLU(),\n",
    "                                   nn.MaxPool2d(kernel_size=2, stride=2),\n",
    "                                   )\n",
    "        # Define the fully connected layers\n",
    "        self.fc_layers = nn.Sequential(nn.Linear(256 * 56 * 56, 128),\n",
    "                                       nn.ReLU(),\n",
    "                                       nn.Linear(128, 64),\n",
    "                                       nn.ReLU(),\n",
    "                                       nn.Linear(64, NUM_CLASSES)\n",
    "                                       )\n",
    "\n",
    "    def forward(self, x):\n",
    "        x = self.model(x)\n",
    "        x = x.reshape(x.size(0), -1)\n",
    "        x = self.fc_layers(x)\n",
    "        return x\n"
   ]
  },
  {
   "cell_type": "code",
   "execution_count": 9,
   "metadata": {},
   "outputs": [],
   "source": [
    "def train_epoch(model, dataloader, loss_fn, optimizer, device) -> float:\n",
    "    size = len(dataloader.dataset) # Total number of samples in the dataset\n",
    "    num_batches = len(dataloader)  # Number of batches per epoch\n",
    "    train_loss, train_correct = 0.0, 0.0\n",
    "    model.train()  # Set model to training mode\n",
    "    for batch, (x, y) in enumerate(dataloader):\n",
    "        x, y = x.to(device), y.to(device)\n",
    "        output = model(x)  # Forward propagation\n",
    "        loss = loss_fn(output, y)  # Calculate loss\n",
    "        train_loss += loss.item()  # Accumulate loss\n",
    "        optimizer.zero_grad()  # Zero gradients\n",
    "        loss.backward()  # Backpropagation\n",
    "        optimizer.step()  # Update weights\n",
    "        train_correct += (output.argmax(1) == y).type(torch.float).sum().item() # Compute the number of correct predictions\n",
    "\n",
    "    return train_loss/num_batches, 100*train_correct/size  # Return average loss"
   ]
  },
  {
   "cell_type": "code",
   "execution_count": 10,
   "metadata": {},
   "outputs": [],
   "source": [
    "def valid_epoch(model, dataloader, loss_fn, device) -> float:\n",
    "    size = len(dataloader.dataset) # Total number of samples in the dataset\n",
    "    num_batches = len(dataloader)  # Number of batches per epoch\n",
    "    valid_loss, valid_correct = 0.0, 0.0\n",
    "    model.eval()  # Set model to evaluation mode\n",
    "    with torch.inference_mode(mode=True):\n",
    "        for batch, (x, y) in enumerate(dataloader):\n",
    "            x, y = x.to(device), y.to(device)\n",
    "            output = model(x)  # Get model prediction\n",
    "            loss = loss_fn(output, y)  # Calculate loss\n",
    "            valid_loss += loss.item()  # Accumulate loss\n",
    "            valid_correct += (output.argmax(1) == y).type(torch.float).sum().item() # Compute the number of correct predictions\n",
    "    return valid_loss/num_batches, 100*valid_correct/size  # Return average loss"
   ]
  },
  {
   "cell_type": "code",
   "execution_count": 11,
   "metadata": {},
   "outputs": [],
   "source": [
    "def train(model, train_loader, valid_loader, loss_fn, optimizer, epochs, device):\n",
    "    # Initializes a defaultdict to store the training and validation losses at each epoch\n",
    "    result = defaultdict(list)\n",
    "    # Moved the model to the specified device\n",
    "    model.to(device)\n",
    "    # Iterates through each epoch\n",
    "    for epoch in tqdm(range(1, epochs + 1)):\n",
    "        # Train the model and calculate the training loss\n",
    "        train_loss, train_acc = train_epoch(\n",
    "            model, train_loader, loss_fn, optimizer, device)\n",
    "        # Calculate the validation loss\n",
    "        valid_loss, valid_acc = valid_epoch(model, valid_loader, loss_fn, device)\n",
    "        # Appended the training and validation losses to the result\n",
    "        result['train_loss'].append(train_loss)\n",
    "        result['train_accuracy'].append(train_acc)\n",
    "        result['valid_loss'].append(valid_loss)\n",
    "        result['valid_accuracy'].append(valid_acc)\n",
    "        print(f\"Epoch: {epoch} Train accuracy: {train_acc} Train loss: {train_loss} Valid accuracy: {valid_acc} Valid loss: {valid_loss}\")\n",
    "    return result  # Return the training and validation losses at each epoch\n"
   ]
  },
  {
   "cell_type": "code",
   "execution_count": 12,
   "metadata": {},
   "outputs": [],
   "source": [
    "model = CNN_Model()\n",
    "loss_fn = nn.CrossEntropyLoss() # Define the loss function\n",
    "optimizer = torch.optim.Adam(model.parameters(), lr=LEARNING_RATE) # Define the optimizer"
   ]
  },
  {
   "cell_type": "code",
   "execution_count": 13,
   "metadata": {},
   "outputs": [
    {
     "data": {
      "application/vnd.jupyter.widget-view+json": {
       "model_id": "921d3cf7b614447c97f71d859e5469b0",
       "version_major": 2,
       "version_minor": 0
      },
      "text/plain": [
       "  0%|          | 0/15 [00:00<?, ?it/s]"
      ]
     },
     "metadata": {},
     "output_type": "display_data"
    },
    {
     "name": "stdout",
     "output_type": "stream",
     "text": [
      "Epoch: 1 Train accuracy: 8.734939759036145 Train loss: 4.162296079453968 Valid accuracy: 37.93911007025761 Valid loss: 2.7088353589729026\n",
      "Epoch: 2 Train accuracy: 82.1285140562249 Train loss: 0.8191703702397053 Valid accuracy: 99.76580796252928 Valid loss: 0.025792475324124098\n",
      "Epoch: 3 Train accuracy: 99.44779116465864 Train loss: 0.021636042651528166 Valid accuracy: 100.0 Valid loss: 0.0019496099105001325\n",
      "Epoch: 4 Train accuracy: 100.0 Train loss: 0.0009273357032465615 Valid accuracy: 100.0 Valid loss: 0.0007874983313269224\n",
      "Epoch: 5 Train accuracy: 100.0 Train loss: 0.0004697352433429351 Valid accuracy: 100.0 Valid loss: 0.0005581418383237044\n",
      "Epoch: 6 Train accuracy: 100.0 Train loss: 0.0003246040197111489 Valid accuracy: 100.0 Valid loss: 0.00042958185346193476\n",
      "Epoch: 7 Train accuracy: 100.0 Train loss: 0.00024502137470306713 Valid accuracy: 100.0 Valid loss: 0.000319674543182676\n",
      "Epoch: 8 Train accuracy: 100.0 Train loss: 0.00018579033106410256 Valid accuracy: 100.0 Valid loss: 0.0002561521339682966\n",
      "Epoch: 9 Train accuracy: 100.0 Train loss: 0.00014747700714949695 Valid accuracy: 100.0 Valid loss: 0.00020524522767152153\n",
      "Epoch: 10 Train accuracy: 100.0 Train loss: 0.00012072849050228897 Valid accuracy: 100.0 Valid loss: 0.0001719152935914247\n",
      "Epoch: 11 Train accuracy: 100.0 Train loss: 9.946260936322644e-05 Valid accuracy: 100.0 Valid loss: 0.00014476256129219783\n",
      "Epoch: 12 Train accuracy: 100.0 Train loss: 8.459955233053142e-05 Valid accuracy: 100.0 Valid loss: 0.00012617842137977413\n",
      "Epoch: 13 Train accuracy: 100.0 Train loss: 7.248267970031261e-05 Valid accuracy: 100.0 Valid loss: 0.00010816544225370442\n",
      "Epoch: 14 Train accuracy: 100.0 Train loss: 6.399465062367242e-05 Valid accuracy: 100.0 Valid loss: 9.525848131657026e-05\n",
      "Epoch: 15 Train accuracy: 100.0 Train loss: 5.57347866561031e-05 Valid accuracy: 100.0 Valid loss: 8.374828454786136e-05\n"
     ]
    }
   ],
   "source": [
    "# Perform the training and validation\n",
    "result = train(model, train_loader, val_loader, loss_fn, optimizer, EPOCHS, device)\n"
   ]
  },
  {
   "cell_type": "code",
   "execution_count": 14,
   "metadata": {},
   "outputs": [
    {
     "data": {
      "image/png": "[encoded data removed]",
      "text/plain": [
       "<Figure size 640x480 with 1 Axes>"
      ]
     },
     "metadata": {},
     "output_type": "display_data"
    }
   ],
   "source": [
    "# Plot the Accuracy history\n",
    "\n",
    "# Get the number of epochs\n",
    "epochs = range(len(result['train_loss']))\n",
    "\n",
    "# Create a new figure for the plot\n",
    "plt.figure()\n",
    "# Set the title of the plot\n",
    "plt.title('Training and Validation Accuracy')\n",
    "# Set the label for the x-axis\n",
    "plt.xlabel('Epochs')\n",
    "# Set the label for the y-axis\n",
    "plt.ylabel('Accuracy')\n",
    "# Plot the training loss over epochs\n",
    "plt.plot(epochs, result['train_accuracy'], label='train accuracy')\n",
    "# Plot the validation loss over epochs\n",
    "plt.plot(epochs, result['valid_accuracy'], label='valid accuracy')\n",
    "# Add a legend to the plot\n",
    "plt.legend()\n",
    "plt.tight_layout()\n",
    "# Save the plot\n",
    "plt.savefig('Training and Validation Accuracy.png')\n",
    "# Display the plot\n",
    "plt.show()\n"
   ]
  },
  {
   "cell_type": "code",
   "execution_count": 15,
   "metadata": {},
   "outputs": [
    {
     "data": {
      "image/png": "[encoded data removed]",
      "text/plain": [
       "<Figure size 640x480 with 1 Axes>"
      ]
     },
     "metadata": {},
     "output_type": "display_data"
    }
   ],
   "source": [
    "# Plot the Loss history\n",
    "\n",
    "# Create a new figure for the plot\n",
    "plt.figure()\n",
    "# Set the title of the plot\n",
    "plt.title('Training and Validation Loss')\n",
    "# Set the label for the x-axis\n",
    "plt.xlabel('Epochs')\n",
    "# Set the label for the y-axis\n",
    "plt.ylabel('Loss')\n",
    "# Plot the training loss over epochs\n",
    "plt.plot(epochs, result['train_loss'], label='train loss')\n",
    "# Plot the validation loss over epochs\n",
    "plt.plot(epochs, result['valid_loss'], label='valid loss')\n",
    "# Add a legend to the plot\n",
    "plt.legend()\n",
    "plt.tight_layout()\n",
    "# Save the plot\n",
    "plt.savefig('Training and Validation Loss.png')\n",
    "# Display the plot\n",
    "plt.show()\n"
   ]
  },
  {
   "cell_type": "code",
   "execution_count": 16,
   "metadata": {},
   "outputs": [],
   "source": [
    "test_imgs = os.listdir('music_test') # Get the list of test image files\n",
    "model.eval() # Set the model to evaluation mode\n",
    "outputs = [] # Create an empty list to store the outputs\n",
    "\n",
    "# Iterate over each image file in the test directory\n",
    "for img_file in test_imgs:\n",
    "    path = os.path.join('music_test', img_file) # Get the path of the image file\n",
    "    img = Image.open(path).convert('RGB') # Open and convert the image to RGB\n",
    "    test_img = transform(img).unsqueeze(0).to(device) # Apply the transformation to the image and convert it to a tensor\n",
    "    output = model(test_img) # Pass the image through the model to get the output\n",
    "    _, predicted = torch.max(output.data, 1) # Get the predicted class label\n",
    "    predicted = predicted.cpu().numpy().tolist() # Convert the predicted label to a numpy array and extract the first element\n",
    "    outputs.append([img_file[:],predicted[0]]) # Append the image filename and predicted label\n",
    "\n",
    "submission = pd.DataFrame(outputs, columns=['filename', 'category']) # Create a DataFrame from the outputs\n",
    "submission.to_csv('submission.csv', index=False) # Save the CSV file"
   ]
  },
  {
   "cell_type": "code",
   "execution_count": 18,
   "metadata": {},
   "outputs": [
    {
     "name": "stderr",
     "output_type": "stream",
     "text": [
      "c:\\Users\\River\\anaconda3\\envs\\pytorch\\lib\\site-packages\\torchinfo\\torchinfo.py:477: UserWarning: TypedStorage is deprecated. It will be removed in the future and UntypedStorage will be the only storage class. This should only matter to you if you are using storages directly.  To access UntypedStorage directly, use tensor.untyped_storage() instead of tensor.storage()\n",
      "  action_fn=lambda data: sys.getsizeof(data.storage()),\n",
      "c:\\Users\\River\\anaconda3\\envs\\pytorch\\lib\\site-packages\\torch\\storage.py:665: UserWarning: TypedStorage is deprecated. It will be removed in the future and UntypedStorage will be the only storage class. This should only matter to you if you are using storages directly.  To access UntypedStorage directly, use tensor.untyped_storage() instead of tensor.storage()\n",
      "  return super().__sizeof__() + self.nbytes()\n"
     ]
    },
    {
     "data": {
      "text/plain": [
       "==========================================================================================\n",
       "Layer (type:depth-idx)                   Output Shape              Param #\n",
       "==========================================================================================\n",
       "CNN_Model                                [32, 88]                  --\n",
       "├─Sequential: 1-1                        [32, 256, 56, 56]         --\n",
       "│    └─Conv2d: 2-1                       [32, 64, 224, 224]        1,792\n",
       "│    └─ReLU: 2-2                         [32, 64, 224, 224]        --\n",
       "│    └─Conv2d: 2-3                       [32, 128, 224, 224]       73,856\n",
       "│    └─ReLU: 2-4                         [32, 128, 224, 224]       --\n",
       "│    └─MaxPool2d: 2-5                    [32, 128, 112, 112]       --\n",
       "│    └─Conv2d: 2-6                       [32, 256, 112, 112]       295,168\n",
       "│    └─ReLU: 2-7                         [32, 256, 112, 112]       --\n",
       "│    └─MaxPool2d: 2-8                    [32, 256, 56, 56]         --\n",
       "├─Sequential: 1-2                        [32, 88]                  --\n",
       "│    └─Linear: 2-9                       [32, 128]                 102,760,576\n",
       "│    └─ReLU: 2-10                        [32, 128]                 --\n",
       "│    └─Linear: 2-11                      [32, 64]                  8,256\n",
       "│    └─ReLU: 2-12                        [32, 64]                  --\n",
       "│    └─Linear: 2-13                      [32, 88]                  5,720\n",
       "==========================================================================================\n",
       "Total params: 103,145,368\n",
       "Trainable params: 103,145,368\n",
       "Non-trainable params: 0\n",
       "Total mult-adds (G): 243.23\n",
       "==========================================================================================\n",
       "Input size (MB): 19.27\n",
       "Forward/backward pass size (MB): 3288.41\n",
       "Params size (MB): 412.58\n",
       "Estimated Total Size (MB): 3720.26\n",
       "=========================================================================================="
      ]
     },
     "execution_count": 18,
     "metadata": {},
     "output_type": "execute_result"
    }
   ],
   "source": [
    "# Print the model summary\n",
    "summary(model, input_size=(32, 3, 224, 224))"
   ]
  }
 ],
 "metadata": {
  "kernelspec": {
   "display_name": "pytorch",
   "language": "python",
   "name": "python3"
  },
  "language_info": {
   "codemirror_mode": {
    "name": "ipython",
    "version": 3
   },
   "file_extension": ".py",
   "mimetype": "text/x-python",
   "name": "python",
   "nbconvert_exporter": "python",
   "pygments_lexer": "ipython3",
   "version": "3.9.16"
  },
  "orig_nbformat": 4
 },
 "nbformat": 4,
 "nbformat_minor": 2
}
