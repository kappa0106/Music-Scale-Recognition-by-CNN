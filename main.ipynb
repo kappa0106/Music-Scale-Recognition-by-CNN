{
 "cells": [
  {
   "cell_type": "code",
   "execution_count": 1,
   "metadata": {},
   "outputs": [],
   "source": [
    "# Import module\n",
    "import os\n",
    "import numpy as np\n",
    "import pandas as pd\n",
    "import matplotlib.pyplot as plt\n",
    "import torch\n",
    "import torch.nn as nn\n",
    "import torchvision.transforms as transforms\n",
    "from torch.utils.data import Dataset, DataLoader, random_split\n",
    "from PIL import Image\n",
    "from tqdm.auto import tqdm\n",
    "from collections import defaultdict\n"
   ]
  },
  {
   "cell_type": "code",
   "execution_count": 2,
   "metadata": {},
   "outputs": [],
   "source": [
    "device = torch.device('cuda' if torch.cuda.is_available() else 'cpu')"
   ]
  },
  {
   "cell_type": "code",
   "execution_count": 3,
   "metadata": {},
   "outputs": [],
   "source": [
    "class MelCepstrum(Dataset):\n",
    "    def __init__(self,  file, transform=None):\n",
    "        self.datas = pd.read_csv(file)\n",
    "        self.transform = transform\n",
    "\n",
    "    def __len__(self):\n",
    "        return len(self.datas)\n",
    "\n",
    "    def __getitem__(self, index):\n",
    "        path = 'music_train/' + self.datas.iloc[index, 0]\n",
    "        image = Image.open(path).convert('RGB')\n",
    "        label = torch.tensor(int(self.datas.iloc[index, 1]))\n",
    "\n",
    "        if self.transform:\n",
    "            image = self.transform(image)\n",
    "\n",
    "        return image, label\n"
   ]
  },
  {
   "cell_type": "code",
   "execution_count": 4,
   "metadata": {},
   "outputs": [],
   "source": [
    "BATCH_SIZE = 32\n",
    "EPOCHS = 12\n",
    "num_classes = 88"
   ]
  },
  {
   "cell_type": "code",
   "execution_count": 5,
   "metadata": {},
   "outputs": [],
   "source": [
    "transform = transforms.Compose([\n",
    "    transforms.Resize((224, 224)),\n",
    "    transforms.ToTensor(),\n",
    "    transforms.Normalize(mean=[0.485, 0.456, 0.406], std=[0.229, 0.224, 0.225])])"
   ]
  },
  {
   "cell_type": "code",
   "execution_count": 6,
   "metadata": {},
   "outputs": [],
   "source": [
    "dataset = MelCepstrum(file='train_truth.csv', transform=transform)\n",
    "\n",
    "train_size = int(0.7 * len(dataset))\n",
    "val_size = len(dataset) - train_size\n",
    "\n",
    "train_dataset, val_dataset = random_split(dataset, [train_size, val_size])"
   ]
  },
  {
   "cell_type": "code",
   "execution_count": 7,
   "metadata": {},
   "outputs": [],
   "source": [
    "train_loader = DataLoader(train_dataset, batch_size=BATCH_SIZE, shuffle=True)\n",
    "val_loader = DataLoader(val_dataset, batch_size=BATCH_SIZE, shuffle=True)\n"
   ]
  },
  {
   "cell_type": "code",
   "execution_count": 8,
   "metadata": {},
   "outputs": [],
   "source": [
    "class CNN_Model(nn.Module):\n",
    "    def __init__(self):\n",
    "        super(CNN_Model, self).__init__()\n",
    "        self.conv1 = nn.Conv2d(3, 32, kernel_size=3, padding=1)\n",
    "        self.pool = nn.MaxPool2d(kernel_size=2, stride=2)\n",
    "        self.conv2 = nn.Conv2d(32, 64, kernel_size=3, padding=1)\n",
    "        self.conv3 = nn.Conv2d(64, 128, kernel_size=3, padding=1)\n",
    "        self.fc1 = nn.Linear(128 * 28 * 28, 128) \n",
    "        self.fc2 = nn.Linear(128, num_classes) \n",
    "    def forward(self, x):\n",
    "        x = self.pool(nn.functional.relu(self.conv1(x)))\n",
    "        x = self.pool(nn.functional.relu(self.conv2(x)))\n",
    "        x = self.pool(nn.functional.relu(self.conv3(x)))\n",
    "        x = x.view(-1, 128 * 28 * 28)\n",
    "        x = nn.functional.relu(self.fc1(x))\n",
    "        x = self.fc2(x)\n",
    "        return x"
   ]
  },
  {
   "cell_type": "code",
   "execution_count": 9,
   "metadata": {},
   "outputs": [],
   "source": [
    "def train_epoch(model, dataloader, loss_fn, optimizer, device) -> float:\n",
    "    size = len(dataloader.dataset)\n",
    "    num_batches = len(dataloader)  # Number of batches per epoch\n",
    "    train_loss, train_correct = 0.0, 0.0\n",
    "    model.train()  # Set model to training mode\n",
    "    for batch, (x, y) in enumerate(dataloader):\n",
    "        x, y = x.to(device), y.to(device)\n",
    "        output = model(x)  # Forward propagation\n",
    "        loss = loss_fn(output, y)  # Calculate loss\n",
    "        train_loss += loss.item()  # Accumulate loss\n",
    "        optimizer.zero_grad()  # Zero gradients\n",
    "        loss.backward()  # Backpropagation\n",
    "        optimizer.step()  # Update weights\n",
    "        train_correct += (output.argmax(1) == y).type(torch.float).sum().item()\n",
    "\n",
    "    return train_loss/num_batches, 100*train_correct/size  # Return average loss"
   ]
  },
  {
   "cell_type": "code",
   "execution_count": 10,
   "metadata": {},
   "outputs": [],
   "source": [
    "def valid_epoch(model, dataloader, loss_fn, device) -> float:\n",
    "    size = len(dataloader.dataset)\n",
    "    num_batches = len(dataloader)  # Number of batches per epoch\n",
    "    valid_loss, valid_correct = 0.0, 0.0\n",
    "    model.eval()  # Set model to evaluation mode\n",
    "    with torch.inference_mode(mode=True):\n",
    "        for batch, (x, y) in enumerate(dataloader):\n",
    "            x, y = x.to(device), y.to(device)\n",
    "            output = model(x)  # Get model prediction\n",
    "            loss = loss_fn(output, y)  # Calculate loss\n",
    "            valid_loss += loss.item()  # Accumulate loss\n",
    "            valid_correct += (output.argmax(1) == y).type(torch.float).sum().item()\n",
    "    return valid_loss/num_batches, 100*valid_correct/size  # Return average loss"
   ]
  },
  {
   "cell_type": "code",
   "execution_count": 11,
   "metadata": {},
   "outputs": [],
   "source": [
    "def train(model, train_loader, valid_loader, loss_fn, optimizer, epochs, device):\n",
    "    # Initializes a defaultdict to store the training and validation losses at each epoch\n",
    "    result = defaultdict(list)\n",
    "    # Moved the model to the specified device\n",
    "    model.to(device)\n",
    "    # Iterates through each epoch\n",
    "    for epoch in tqdm(range(1, epochs + 1)):\n",
    "        # Train the model and calculate the training loss\n",
    "        train_loss, train_acc = train_epoch(\n",
    "            model, train_loader, loss_fn, optimizer, device)\n",
    "        # Calculate the validation loss\n",
    "        valid_loss, valid_acc = valid_epoch(model, valid_loader, loss_fn, device)\n",
    "        # Appended the training and validation losses to the result\n",
    "        result['train_loss'].append(train_loss)\n",
    "        result['train_accuracy'].append(train_acc)\n",
    "        result['valid_loss'].append(valid_loss)\n",
    "        result['valid_accuracy'].append(valid_acc)\n",
    "        print(f\"Epoch: {epoch} Train accuracy: {train_acc} Train loss: {train_loss} Valid accuracy: {valid_acc} Valid loss: {valid_loss}\")\n",
    "    return result  # Return the training and validation losses at each epoch\n"
   ]
  },
  {
   "cell_type": "code",
   "execution_count": 12,
   "metadata": {},
   "outputs": [],
   "source": [
    "model = CNN_Model()\n",
    "model = model\n",
    "loss_fn = nn.CrossEntropyLoss()\n",
    "optimizer = torch.optim.AdamW(model.parameters(), lr=0.0002)"
   ]
  },
  {
   "cell_type": "code",
   "execution_count": 13,
   "metadata": {},
   "outputs": [],
   "source": [
    "def plot(result):\n",
    "    # Get the number of epochs\n",
    "    epochs = range(len(result['train_loss']))\n",
    "    # Create a new figure for the plot\n",
    "    plt.figure(figsize=(10,4))\n",
    "    plt.subplot(1, 2, 1)\n",
    "    # Set the title of the plot\n",
    "    plt.title('Training and Validation Accuracy')\n",
    "    # Set the label for the x-axis\n",
    "    plt.xlabel('Epochs')\n",
    "    # Set the label for the y-axis\n",
    "    plt.ylabel('Accuracy')\n",
    "    # Plot the training loss over epochs\n",
    "    plt.plot(epochs, result['train_accuracy'], label='train accuracy')\n",
    "    # Plot the validation loss over epochs\n",
    "    plt.plot(epochs, result['valid_accuracy'], label='valid accuracy')\n",
    "    # Add a legend to the plot\n",
    "    plt.legend()\n",
    "\n",
    "    plt.subplot(1, 2, 2)\n",
    "    # Set the title of the plot\n",
    "    plt.title('Training and Validation Loss')\n",
    "    # Set the label for the x-axis\n",
    "    plt.xlabel('Epochs')\n",
    "    # Set the label for the y-axis\n",
    "    plt.ylabel('Loss')\n",
    "    # Plot the training loss over epochs\n",
    "    plt.plot(epochs, result['train_loss'], label='train loss')\n",
    "    # Plot the validation loss over epochs\n",
    "    plt.plot(epochs, result['valid_loss'], label='valid loss')\n",
    "    # Add a legend to the plot\n",
    "    plt.legend()\n",
    "\n",
    "    plt.tight_layout()\n",
    "    # Save the plot\n",
    "    plt.savefig('Training and Validation History.png')\n",
    "    # Display the plot\n",
    "    plt.show()"
   ]
  },
  {
   "cell_type": "code",
   "execution_count": 14,
   "metadata": {},
   "outputs": [
    {
     "data": {
      "application/vnd.jupyter.widget-view+json": {
       "model_id": "3ffae1e271c94837b3ccd702f30c6cf8",
       "version_major": 2,
       "version_minor": 0
      },
      "text/plain": [
       "  0%|          | 0/12 [00:00<?, ?it/s]"
      ]
     },
     "metadata": {},
     "output_type": "display_data"
    },
    {
     "name": "stdout",
     "output_type": "stream",
     "text": [
      "Epoch: 1 Train accuracy: 6.07429718875502 Train loss: 4.230232802648393 Valid accuracy: 26.229508196721312 Valid loss: 3.3491796917385526\n",
      "Epoch: 2 Train accuracy: 66.36546184738955 Train loss: 1.533611279749681 Valid accuracy: 93.91100702576112 Valid loss: 0.3525843835539288\n",
      "Epoch: 3 Train accuracy: 98.29317269076306 Train loss: 0.10446223086633143 Valid accuracy: 98.94613583138174 Valid loss: 0.04256706084642145\n",
      "Epoch: 4 Train accuracy: 99.64859437751004 Train loss: 0.01981257714168538 Valid accuracy: 100.0 Valid loss: 0.0066521331943847515\n",
      "Epoch: 5 Train accuracy: 100.0 Train loss: 0.003565428468088309 Valid accuracy: 100.0 Valid loss: 0.002824257261602691\n",
      "Epoch: 6 Train accuracy: 100.0 Train loss: 0.001661279854098601 Valid accuracy: 100.0 Valid loss: 0.0018410727304096024\n",
      "Epoch: 7 Train accuracy: 100.0 Train loss: 0.0012002568059076098 Valid accuracy: 100.0 Valid loss: 0.0013218023544781048\n",
      "Epoch: 8 Train accuracy: 100.0 Train loss: 0.0008882029431997725 Valid accuracy: 100.0 Valid loss: 0.0010258113077186324\n",
      "Epoch: 9 Train accuracy: 100.0 Train loss: 0.0007020575881359123 Valid accuracy: 100.0 Valid loss: 0.0008221340993057109\n",
      "Epoch: 10 Train accuracy: 100.0 Train loss: 0.000540448993440747 Valid accuracy: 100.0 Valid loss: 0.0006610528238255669\n",
      "Epoch: 11 Train accuracy: 100.0 Train loss: 0.00045256851941332337 Valid accuracy: 100.0 Valid loss: 0.0005649202497874352\n",
      "Epoch: 12 Train accuracy: 100.0 Train loss: 0.00036778256397820006 Valid accuracy: 100.0 Valid loss: 0.0004818479846343743\n"
     ]
    }
   ],
   "source": [
    "result = train(model, train_loader, val_loader, loss_fn, optimizer, EPOCHS, device)\n"
   ]
  },
  {
   "cell_type": "code",
   "execution_count": 15,
   "metadata": {},
   "outputs": [
    {
     "data": {
      "image/png": "[encoded data removed]",
      "text/plain": [
       "<Figure size 1000x400 with 2 Axes>"
      ]
     },
     "metadata": {},
     "output_type": "display_data"
    }
   ],
   "source": [
    "plot(result)"
   ]
  },
  {
   "cell_type": "code",
   "execution_count": 16,
   "metadata": {},
   "outputs": [],
   "source": [
    "test_imgs = os.listdir('music_test')\n",
    "model.eval()\n",
    "outputs = []\n",
    "\n",
    "\n",
    "for img_file in test_imgs:\n",
    "    path = os.path.join('music_test', img_file)\n",
    "    img = Image.open(path).convert('RGB')\n",
    "    test_img = transform(img).unsqueeze(0).to(device) \n",
    "    output = model(test_img)\n",
    "    _, predicted = torch.max(output.data, 1)\n",
    "    predicted = predicted.cpu().numpy().tolist()\n",
    "    outputs.append([img_file[:],predicted[0]])\n",
    "\n",
    "submission = pd.DataFrame(outputs, columns=['filename', 'category'])\n",
    "submission.to_csv('submission.csv', index=False)"
   ]
  }
 ],
 "metadata": {
  "kernelspec": {
   "display_name": "pytorch",
   "language": "python",
   "name": "python3"
  },
  "language_info": {
   "codemirror_mode": {
    "name": "ipython",
    "version": 3
   },
   "file_extension": ".py",
   "mimetype": "text/x-python",
   "name": "python",
   "nbconvert_exporter": "python",
   "pygments_lexer": "ipython3",
   "version": "3.9.16"
  },
  "orig_nbformat": 4
 },
 "nbformat": 4,
 "nbformat_minor": 2
}
